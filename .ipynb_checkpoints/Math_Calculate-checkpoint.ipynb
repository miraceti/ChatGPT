{
 "cells": [
  {
   "cell_type": "code",
   "execution_count": 2,
   "id": "e8b3cb92",
   "metadata": {},
   "outputs": [],
   "source": [
    "import sympy\n",
    "from sympy import symbols\n",
    "from sympy.solvers import solve"
   ]
  },
  {
   "cell_type": "code",
   "execution_count": 3,
   "id": "9186a9e6",
   "metadata": {},
   "outputs": [],
   "source": [
    "x = symbols('x')"
   ]
  },
  {
   "cell_type": "code",
   "execution_count": 4,
   "id": "8bc8b8e5",
   "metadata": {},
   "outputs": [],
   "source": [
    "eq = 2*x**2 + 1"
   ]
  },
  {
   "cell_type": "code",
   "execution_count": 5,
   "id": "72e4920c",
   "metadata": {},
   "outputs": [
    {
     "data": {
      "text/plain": [
       "[-sqrt(2)*I/2, sqrt(2)*I/2]"
      ]
     },
     "execution_count": 5,
     "metadata": {},
     "output_type": "execute_result"
    }
   ],
   "source": [
    "solve(eq,x)"
   ]
  },
  {
   "cell_type": "code",
   "execution_count": 6,
   "id": "16aca94b",
   "metadata": {},
   "outputs": [
    {
     "data": {
      "text/latex": [
       "$\\displaystyle 2 \\left(x + 5 y + 2\\right)$"
      ],
      "text/plain": [
       "2*(x + 5*y + 2)"
      ]
     },
     "execution_count": 6,
     "metadata": {},
     "output_type": "execute_result"
    }
   ],
   "source": [
    "from sympy import *\n",
    "var('x y')\n",
    "eq0 = 2*x +10*y + 4\n",
    "sympy.factor(eq0)"
   ]
  },
  {
   "cell_type": "code",
   "execution_count": 7,
   "id": "4f762768",
   "metadata": {},
   "outputs": [
    {
     "data": {
      "text/latex": [
       "$\\displaystyle \\left(x - 2\\right) \\left(x + 2\\right)$"
      ],
      "text/plain": [
       "(x - 2)*(x + 2)"
      ]
     },
     "execution_count": 7,
     "metadata": {},
     "output_type": "execute_result"
    }
   ],
   "source": [
    "from sympy import *\n",
    "var('x y')\n",
    "eq1 = x**2 - 4\n",
    "sympy.factor(eq1)"
   ]
  },
  {
   "cell_type": "code",
   "execution_count": 8,
   "id": "d4dbd423",
   "metadata": {},
   "outputs": [
    {
     "name": "stdout",
     "output_type": "stream",
     "text": [
      "x =  -5\n"
     ]
    }
   ],
   "source": [
    "from sympy import *\n",
    "var('x y')\n",
    "first = 2*x + 10\n",
    "eq1 = Eq(first,0)\n",
    "sol = solve(eq1,x)\n",
    "print(\"x = \",sol[0])"
   ]
  },
  {
   "cell_type": "code",
   "execution_count": 9,
   "id": "fce6271c",
   "metadata": {},
   "outputs": [
    {
     "name": "stdout",
     "output_type": "stream",
     "text": [
      "x =  y/2 - 5\n"
     ]
    }
   ],
   "source": [
    "from sympy import *\n",
    "var('x y')\n",
    "first = 2*x + 10\n",
    "eq1 = Eq(first,y)\n",
    "sol = solve(eq1,x)\n",
    "print(\"x = \",sol[0])"
   ]
  },
  {
   "cell_type": "code",
   "execution_count": 10,
   "id": "e4ed5877",
   "metadata": {},
   "outputs": [
    {
     "data": {
      "text/latex": [
       "$\\displaystyle \\left(x - 3\\right) \\left(x - 1\\right) \\left(x + 2\\right)$"
      ],
      "text/plain": [
       "(x - 3)*(x - 1)*(x + 2)"
      ]
     },
     "execution_count": 10,
     "metadata": {},
     "output_type": "execute_result"
    }
   ],
   "source": [
    "from sympy import *\n",
    "var('x y')\n",
    "eq1 = x**3 - 2*x**2 -5*x + 6\n",
    "sympy.factor(eq1)"
   ]
  },
  {
   "cell_type": "code",
   "execution_count": 11,
   "id": "fbec6ccb",
   "metadata": {},
   "outputs": [],
   "source": [
    "def string_frac(in_string):\n",
    "    if \"/\" in in_string:\n",
    "        nd = in_string.split(\"/\")\n",
    "        n = float(nd[0])\n",
    "        d = float(nd[1])\n",
    "        ans = n/d\n",
    "        return ans\n",
    "    else:\n",
    "        ans = float(in_string)\n",
    "        return ans\n",
    "    \n",
    "        "
   ]
  },
  {
   "cell_type": "code",
   "execution_count": 13,
   "id": "c5940cf2",
   "metadata": {},
   "outputs": [
    {
     "data": {
      "text/plain": [
       "3.0"
      ]
     },
     "execution_count": 13,
     "metadata": {},
     "output_type": "execute_result"
    }
   ],
   "source": [
    "string_frac(\"3\")"
   ]
  },
  {
   "cell_type": "code",
   "execution_count": 14,
   "id": "968acf79",
   "metadata": {},
   "outputs": [
    {
     "data": {
      "text/plain": [
       "0.4"
      ]
     },
     "execution_count": 14,
     "metadata": {},
     "output_type": "execute_result"
    }
   ],
   "source": [
    "string_frac(\"2/5\")"
   ]
  },
  {
   "cell_type": "code",
   "execution_count": 21,
   "id": "8c67fa3d",
   "metadata": {},
   "outputs": [],
   "source": [
    "def one_step_mult():\n",
    "    import random\n",
    "    a = random.randint(1,11)\n",
    "    b = random.randint(2,24)\n",
    "    print(a, \"x= \", b)\n",
    "    ans_in = (input(\"x = \"))\n",
    "    answer = b/a\n",
    "    \n",
    "    if string_frac(ans_in)==answer:\n",
    "        print(\"Corrrect! \\n\")\n",
    "    else:\n",
    "        print(\"Try again\")\n",
    "        print(\"The correct answer is \", answer, \"\\n\")"
   ]
  },
  {
   "cell_type": "code",
   "execution_count": 22,
   "id": "f09ed831",
   "metadata": {},
   "outputs": [
    {
     "name": "stdout",
     "output_type": "stream",
     "text": [
      "3 x=  13\n",
      "x = 13/3\n",
      "Corrrect! \n",
      "\n"
     ]
    }
   ],
   "source": [
    "one_step_mult()\n"
   ]
  },
  {
   "cell_type": "code",
   "execution_count": 24,
   "id": "d444f0a1",
   "metadata": {},
   "outputs": [],
   "source": [
    "def one_step_add():\n",
    "    import random\n",
    "    a = random.randint(-4,10)\n",
    "    b = random.randint(2,24)\n",
    "    print(\"x + \",a, \" = \", b)\n",
    "    ans = float(input(\"x = \"))\n",
    "    answer = b-a\n",
    "    \n",
    "    if ans==answer:\n",
    "        print(\"Corrrect! \\n\")\n",
    "    else:\n",
    "        print(\"Try again\")\n",
    "        print(\"The correct answer is \", answer, \"\\n\")"
   ]
  },
  {
   "cell_type": "code",
   "execution_count": 25,
   "id": "4c0eb36c",
   "metadata": {},
   "outputs": [
    {
     "name": "stdout",
     "output_type": "stream",
     "text": [
      "x +  -2  =  10\n",
      "x = 11\n",
      "Try again\n",
      "The correct answer is  12 \n",
      "\n"
     ]
    }
   ],
   "source": [
    "one_step_add()"
   ]
  },
  {
   "cell_type": "code",
   "execution_count": 26,
   "id": "11136613",
   "metadata": {},
   "outputs": [
    {
     "name": "stdout",
     "output_type": "stream",
     "text": [
      "x +  7  =  19\n",
      "x = 12\n",
      "Corrrect! \n",
      "\n"
     ]
    }
   ],
   "source": [
    "one_step_add()"
   ]
  },
  {
   "cell_type": "code",
   "execution_count": null,
   "id": "40f33d93",
   "metadata": {},
   "outputs": [],
   "source": []
  }
 ],
 "metadata": {
  "kernelspec": {
   "display_name": "Python 3 (ipykernel)",
   "language": "python",
   "name": "python3"
  },
  "language_info": {
   "codemirror_mode": {
    "name": "ipython",
    "version": 3
   },
   "file_extension": ".py",
   "mimetype": "text/x-python",
   "name": "python",
   "nbconvert_exporter": "python",
   "pygments_lexer": "ipython3",
   "version": "3.11.1"
  }
 },
 "nbformat": 4,
 "nbformat_minor": 5
}
